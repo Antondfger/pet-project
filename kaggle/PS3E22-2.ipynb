{
 "cells": [
  {
   "cell_type": "code",
   "execution_count": null,
   "metadata": {
    "colab": {
     "base_uri": "https://localhost:8080/"
    },
    "id": "_FIeyYyeAvgS",
    "outputId": "3dfd9e9e-7ccb-4263-e317-1b8f80bacaae"
   },
   "outputs": [],
   "source": [
    "import numpy as np\n",
    "import pandas as pd\n",
    "import matplotlib.pyplot as plt\n",
    "!pip install phik -q\n",
    "! pip install --no-deps autoxgb\n",
    "!pip install optuna\n",
    "!pip install catboost\n",
    "from catboost import CatBoostClassifier\n",
    "from autoxgb import AutoXGB\n",
    "from sklearn.metrics import f1_score\n",
    "from sklearn.model_selection import StratifiedKFold\n",
    "from scipy import stats\n",
    "from sklearn.preprocessing import OrdinalEncoder\n",
    "from sklearn.preprocessing import LabelEncoder\n",
    "import optuna\n",
    "import phik\n",
    "from phik.report import plot_correlation_matrix\n",
    "from phik import report\n",
    "from sklearn.decomposition import PCA"
   ]
  },
  {
   "cell_type": "code",
   "execution_count": null,
   "metadata": {
    "id": "-KHjZoGEJX8y"
   },
   "outputs": [],
   "source": [
    "def cross_validate(model, X, y, split = 5):\n",
    "   skf = StratifiedKFold(n_splits=split, random_state = 17, shuffle=True)\n",
    "   models = []\n",
    "   scores = []\n",
    "   for i, (train_idx, test_idx) in enumerate(skf.split(X, y)):\n",
    "        X_train, X_val, y_train, y_val = X.iloc[train_idx], X.iloc[test_idx], y.iloc[train_idx], y.iloc[test_idx]\n",
    "\n",
    "        model.fit(X_train, y_train)\n",
    "        score = f1_score(model.predict(X_val), y_val, average = 'micro')\n",
    "        scores.append(score)\n",
    "        models.append(model)\n",
    "        print(score)\n",
    "   print(np.mean(scores), np.std(scores))\n",
    "   return models\n",
    "\n",
    "def pred_cross(models, X):\n",
    "  preds = [mode.predict(X) for mode in models]\n",
    "  res = []\n",
    "  for i in range(len(preds[0])):\n",
    "     pr = [pred[i] for pred in preds]\n",
    "     res.append(int(stats.mode(pr)[0]))\n",
    "  return res\n",
    "\n",
    "def pred_proba(models, X):\n",
    "  res = [model.predict_proba(X) for model in models]\n",
    "  return np.sum(res, axis=0)\n",
    "\n",
    "def chi_squared_test(df, input_var, target_var, significance_level=0.05):\n",
    "    contingency_table = pd.crosstab(df[input_var], df[target_var])\n",
    "    chi2, p, _, _ = stats.chi2_contingency(contingency_table)\n",
    "\n",
    "    if p < significance_level:\n",
    "        print(f'\\033[32m{input_var} has a significant relationship with the target variable.\\033[0m')\n",
    "    else:\n",
    "        print(f'\\033[31m{input_var} does not have a significant relationship with the target variable.\\033[0m')\n",
    "\n",
    "for i in cat_var:\n",
    "    chi_squared_test(train, i, target)"
   ]
  },
  {
   "cell_type": "code",
   "execution_count": null,
   "metadata": {
    "id": "zNONiz4GBKhR"
   },
   "outputs": [],
   "source": [
    "submit = pd.read_csv('sample_submission.csv')"
   ]
  },
  {
   "cell_type": "code",
   "execution_count": null,
   "metadata": {
    "id": "BBtiQsqTBonx"
   },
   "outputs": [],
   "source": [
    "test = pd.read_csv('test.csv')"
   ]
  },
  {
   "cell_type": "code",
   "execution_count": null,
   "metadata": {
    "id": "4gSSt6ZQBthz"
   },
   "outputs": [],
   "source": [
    "train = pd.read_csv('train.csv')"
   ]
  },
  {
   "cell_type": "code",
   "execution_count": null,
   "metadata": {
    "colab": {
     "base_uri": "https://localhost:8080/"
    },
    "id": "QQFYmH_UBx2f",
    "outputId": "883312e6-2f8b-44ac-f7b8-7a6d4dffe371"
   },
   "outputs": [
    {
     "name": "stdout",
     "output_type": "stream",
     "text": [
      "<class 'pandas.core.frame.DataFrame'>\n",
      "RangeIndex: 1235 entries, 0 to 1234\n",
      "Data columns (total 29 columns):\n",
      " #   Column                 Non-Null Count  Dtype  \n",
      "---  ------                 --------------  -----  \n",
      " 0   id                     1235 non-null   int64  \n",
      " 1   surgery                1235 non-null   object \n",
      " 2   age                    1235 non-null   object \n",
      " 3   hospital_number        1235 non-null   int64  \n",
      " 4   rectal_temp            1235 non-null   float64\n",
      " 5   pulse                  1235 non-null   float64\n",
      " 6   respiratory_rate       1235 non-null   float64\n",
      " 7   temp_of_extremities    1235 non-null   object \n",
      " 8   peripheral_pulse       1235 non-null   object \n",
      " 9   mucous_membrane        1235 non-null   object \n",
      " 10  capillary_refill_time  1235 non-null   object \n",
      " 11  pain                   1235 non-null   object \n",
      " 12  peristalsis            1235 non-null   object \n",
      " 13  abdominal_distention   1235 non-null   object \n",
      " 14  nasogastric_tube       1235 non-null   object \n",
      " 15  nasogastric_reflux     1235 non-null   object \n",
      " 16  nasogastric_reflux_ph  1235 non-null   float64\n",
      " 17  rectal_exam_feces      1235 non-null   object \n",
      " 18  abdomen                1235 non-null   object \n",
      " 19  packed_cell_volume     1235 non-null   float64\n",
      " 20  total_protein          1235 non-null   float64\n",
      " 21  abdomo_appearance      1235 non-null   object \n",
      " 22  abdomo_protein         1235 non-null   float64\n",
      " 23  surgical_lesion        1235 non-null   object \n",
      " 24  lesion_1               1235 non-null   int64  \n",
      " 25  lesion_2               1235 non-null   int64  \n",
      " 26  lesion_3               1235 non-null   int64  \n",
      " 27  cp_data                1235 non-null   object \n",
      " 28  outcome                1235 non-null   object \n",
      "dtypes: float64(7), int64(5), object(17)\n",
      "memory usage: 279.9+ KB\n"
     ]
    }
   ],
   "source": [
    "train.info()"
   ]
  },
  {
   "cell_type": "code",
   "execution_count": null,
   "metadata": {
    "colab": {
     "base_uri": "https://localhost:8080/"
    },
    "id": "Nbs72eYRB0GJ",
    "outputId": "62cf3311-4896-48bf-aa72-d77d944c892e"
   },
   "outputs": [
    {
     "data": {
      "text/plain": [
       "id                       0\n",
       "surgery                  0\n",
       "age                      0\n",
       "hospital_number          0\n",
       "rectal_temp              0\n",
       "pulse                    0\n",
       "respiratory_rate         0\n",
       "temp_of_extremities      0\n",
       "peripheral_pulse         0\n",
       "mucous_membrane          0\n",
       "capillary_refill_time    0\n",
       "pain                     0\n",
       "peristalsis              0\n",
       "abdominal_distention     0\n",
       "nasogastric_tube         0\n",
       "nasogastric_reflux       0\n",
       "nasogastric_reflux_ph    0\n",
       "rectal_exam_feces        0\n",
       "abdomen                  0\n",
       "packed_cell_volume       0\n",
       "total_protein            0\n",
       "abdomo_appearance        0\n",
       "abdomo_protein           0\n",
       "surgical_lesion          0\n",
       "lesion_1                 0\n",
       "lesion_2                 0\n",
       "lesion_3                 0\n",
       "cp_data                  0\n",
       "outcome                  0\n",
       "dtype: int64"
      ]
     },
     "execution_count": 7,
     "metadata": {},
     "output_type": "execute_result"
    }
   ],
   "source": [
    "train.isnull().sum()"
   ]
  },
  {
   "cell_type": "markdown",
   "metadata": {
    "id": "TzU33OeysmH5"
   },
   "source": [
    "# Catboost Feature Importance"
   ]
  },
  {
   "cell_type": "code",
   "execution_count": null,
   "metadata": {
    "colab": {
     "base_uri": "https://localhost:8080/",
     "height": 451
    },
    "id": "yk8cY7zwDCS-",
    "outputId": "bc13f671-1c10-4f15-cb00-6aa6c6299251"
   },
   "outputs": [
    {
     "data": {
      "text/plain": [
       "<Axes: >"
      ]
     },
     "execution_count": 16,
     "metadata": {},
     "output_type": "execute_result"
    },
    {
     "data": {
      "image/png": "[encoded data removed]",
      "text/plain": [
       "<Figure size 640x480 with 1 Axes>"
      ]
     },
     "metadata": {},
     "output_type": "display_data"
    }
   ],
   "source": [
    "y.hist()"
   ]
  },
  {
   "cell_type": "code",
   "execution_count": null,
   "metadata": {
    "colab": {
     "base_uri": "https://localhost:8080/",
     "height": 565
    },
    "id": "WFMViKGWESsr",
    "outputId": "40ad8bb3-8e53-439c-8d9d-e641e53d66d9"
   },
   "outputs": [
    {
     "data": {
      "image/png": "[encoded data removed]",
      "text/plain": [
       "<Figure size 1200x600 with 1 Axes>"
      ]
     },
     "metadata": {},
     "output_type": "display_data"
    }
   ],
   "source": [
    "feature_importance = model.feature_importances_\n",
    "sorted_idx = np.argsort(feature_importance)\n",
    "fig = plt.figure(figsize=(12, 6))\n",
    "plt.barh(range(len(sorted_idx)), feature_importance[sorted_idx], align='center')\n",
    "plt.yticks(range(len(sorted_idx)), np.array(X.columns)[sorted_idx])\n",
    "plt.title('Feature Importance');"
   ]
  },
  {
   "cell_type": "code",
   "execution_count": null,
   "metadata": {
    "id": "MBU-qSwXPWdb"
   },
   "outputs": [],
   "source": [
    "X = train.drop(['lesion_2', 'lesion_2', 'age', 'cp_data', 'outcome'], axis = 1)\n",
    "cat_col = [x for x in X.columns if X[x].dtype == 'object']\n",
    "test = test.drop(['lesion_2', 'lesion_2', 'age', 'cp_data'], axis = 1)"
   ]
  },
  {
   "cell_type": "code",
   "execution_count": null,
   "metadata": {
    "id": "IYXdfu9VN3Aq"
   },
   "outputs": [],
   "source": [
    "enc = OrdinalEncoder(handle_unknown = 'use_encoded_value', unknown_value = -1)\n",
    "X[cat_col] = enc.fit_transform(X[cat_col])"
   ]
  },
  {
   "cell_type": "code",
   "execution_count": null,
   "metadata": {
    "id": "32Peqzq8P7OF"
   },
   "outputs": [],
   "source": [
    "test[cat_col] = enc.transform(test[cat_col])"
   ]
  },
  {
   "cell_type": "code",
   "execution_count": null,
   "metadata": {
    "id": "Liq5C9ajUO6O"
   },
   "outputs": [],
   "source": [
    "lab = LabelEncoder()"
   ]
  },
  {
   "cell_type": "code",
   "execution_count": null,
   "metadata": {
    "id": "ZDDgezcBT3Wd"
   },
   "outputs": [],
   "source": [
    "y = lab.fit_transform(train['outcome'])"
   ]
  },
  {
   "cell_type": "code",
   "execution_count": null,
   "metadata": {
    "id": "yAtKKNg8UU7v"
   },
   "outputs": [],
   "source": [
    "y = pd.DataFrame(y)"
   ]
  },
  {
   "cell_type": "markdown",
   "metadata": {
    "id": "CwQGO3l8sxxa"
   },
   "source": [
    "# CatBoost validation"
   ]
  },
  {
   "cell_type": "code",
   "execution_count": null,
   "metadata": {
    "colab": {
     "base_uri": "https://localhost:8080/"
    },
    "id": "EtU2RoMtJ28p",
    "outputId": "e19e15f2-a937-4fd7-e102-45fd2abce0c6"
   },
   "outputs": [
    {
     "name": "stdout",
     "output_type": "stream",
     "text": [
      "0.7044534412955465\n",
      "0.6923076923076923\n",
      "0.6882591093117408\n",
      "0.7044534412955465\n",
      "0.6882591093117408\n",
      "0.6955465587044535 0.0074211752145034015\n"
     ]
    }
   ],
   "source": [
    "model = cross_validate(CatBoostClassifier(verbose = 0), X, y)"
   ]
  },
  {
   "cell_type": "code",
   "execution_count": null,
   "metadata": {
    "id": "l72HmQM3L6jr"
   },
   "outputs": [],
   "source": [
    "pred = pred_cross(model, test)"
   ]
  },
  {
   "cell_type": "code",
   "execution_count": null,
   "metadata": {
    "id": "MQ-TrYiQUeX7"
   },
   "outputs": [],
   "source": [
    "pred = lab.inverse_transform(pred)"
   ]
  },
  {
   "cell_type": "code",
   "execution_count": null,
   "metadata": {
    "colab": {
     "base_uri": "https://localhost:8080/",
     "height": 481
    },
    "id": "zcRM7G3cUsDl",
    "outputId": "070ce5a9-a4b0-4ffb-ad59-b27cff091e86"
   },
   "outputs": [
    {
     "data": {
      "text/plain": [
       "(array([392.,   0.,   0.,   0.,   0., 318.,   0.,   0.,   0., 114.]),\n",
       " array([0. , 0.2, 0.4, 0.6, 0.8, 1. , 1.2, 1.4, 1.6, 1.8, 2. ]),\n",
       " <BarContainer object of 10 artists>)"
      ]
     },
     "execution_count": 153,
     "metadata": {},
     "output_type": "execute_result"
    },
    {
     "data": {
      "image/png": "[encoded data removed]",
      "text/plain": [
       "<Figure size 640x480 with 1 Axes>"
      ]
     },
     "metadata": {},
     "output_type": "display_data"
    }
   ],
   "source": [
    "plt.hist(pred)"
   ]
  },
  {
   "cell_type": "code",
   "execution_count": null,
   "metadata": {
    "id": "AX9p-kucU5MP"
   },
   "outputs": [],
   "source": [
    "submit['outcome'] = pred"
   ]
  },
  {
   "cell_type": "code",
   "execution_count": null,
   "metadata": {
    "id": "4sSd-zSWVAkh"
   },
   "outputs": [],
   "source": [
    "submit.to_csv('pred.csv', index = False)"
   ]
  },
  {
   "cell_type": "markdown",
   "metadata": {
    "id": "cOZh8H1rs5pm"
   },
   "source": [
    "# AutoXGB"
   ]
  },
  {
   "cell_type": "code",
   "execution_count": null,
   "metadata": {
    "id": "MhQzrvym0CRl"
   },
   "outputs": [],
   "source": [
    "test = pd.read_csv('test.csv')\n",
    "train = pd.read_csv('train.csv')\n",
    "\n",
    "X = train.drop(['lesion_2', 'lesion_2', 'age', 'cp_data', 'outcome', 'id'], axis = 1)\n",
    "cat_col = [x for x in X.columns if X[x].dtype == 'object']\n",
    "test = test.drop(['lesion_2', 'lesion_2', 'age', 'cp_data', 'id'], axis = 1)\n",
    "num_col = [x for x in X.columns if X[x].dtype != 'object']"
   ]
  },
  {
   "cell_type": "code",
   "execution_count": null,
   "metadata": {
    "id": "wD9AIbb0xUCk"
   },
   "outputs": [],
   "source": [
    "transform = PCA(n_components = 0.95)"
   ]
  },
  {
   "cell_type": "code",
   "execution_count": null,
   "metadata": {
    "id": "RhfKyX9sxgSv"
   },
   "outputs": [],
   "source": [
    "X['pca'] = transform.fit_transform(X.drop(cat_col, axis = 1))\n",
    "test['pca'] = transform.transform(test.drop(cat_col, axis = 1))"
   ]
  },
  {
   "cell_type": "code",
   "execution_count": null,
   "metadata": {
    "id": "Q9o-hb_LzKXe"
   },
   "outputs": [],
   "source": [
    "X_pca = X.drop(num_col, axis = 1)\n",
    "test_pca = test.drop(num_col, axis = 1,)"
   ]
  },
  {
   "cell_type": "code",
   "execution_count": null,
   "metadata": {
    "id": "aINFLdyBxr4N"
   },
   "outputs": [],
   "source": [
    "train_ = pd.concat([pd.DataFrame(X_pca), y], axis = 1)\n",
    "train_.to_csv('train_.csv')\n",
    "test_pca.to_csv('test_.csv')"
   ]
  },
  {
   "cell_type": "code",
   "execution_count": null,
   "metadata": {
    "colab": {
     "base_uri": "https://localhost:8080/"
    },
    "id": "QdjwdLCdWNO1",
    "outputId": "565d21f3-b4b8-45c9-93be-11b8b1f115d2"
   },
   "outputs": [],
   "source": [
    "train_filename=\"train_.csv\"\n",
    "output=\"submit\"\n",
    "test_filename=\"test_.csv\"\n",
    "idx=\"Id\"\n",
    "targets=[\"0\"]\n",
    "use_gpu=True\n",
    "num_folds=5\n",
    "seed=42\n",
    "num_trials=50\n",
    "time_limit=600\n",
    "categorical_features = cat_col\n",
    "\n",
    "axgb=AutoXGB(\n",
    "    train_filename=train_filename,\n",
    "    output=output,\n",
    "    test_filename=test_filename,\n",
    "    idx=idx,\n",
    "    targets=targets,\n",
    "    use_gpu=use_gpu,\n",
    "    num_folds=num_folds,\n",
    "    num_trials=num_trials,\n",
    "    time_limit=time_limit\n",
    ")\n",
    "\n",
    "axgb.train()"
   ]
  },
  {
   "cell_type": "code",
   "execution_count": null,
   "metadata": {
    "id": "WMku8zK_asP0"
   },
   "outputs": [],
   "source": [
    "pred = pd.read_csv('/content/submit/test_predictions.csv')"
   ]
  },
  {
   "cell_type": "code",
   "execution_count": null,
   "metadata": {
    "colab": {
     "base_uri": "https://localhost:8080/",
     "height": 419
    },
    "id": "F8yvCg0f31Vo",
    "outputId": "8d7d7b73-0d92-40ae-ca02-9e8d4caffa97"
   },
   "outputs": [
    {
     "data": {
      "text/html": [
       "\n",
       "  <div id=\"df-3e8a60d3-ce8f-46f2-a3ee-4808dee16e72\" class=\"colab-df-container\">\n",
       "    <div>\n",
       "<style scoped>\n",
       "    .dataframe tbody tr th:only-of-type {\n",
       "        vertical-align: middle;\n",
       "    }\n",
       "\n",
       "    .dataframe tbody tr th {\n",
       "        vertical-align: top;\n",
       "    }\n",
       "\n",
       "    .dataframe thead th {\n",
       "        text-align: right;\n",
       "    }\n",
       "</style>\n",
       "<table border=\"1\" class=\"dataframe\">\n",
       "  <thead>\n",
       "    <tr style=\"text-align: right;\">\n",
       "      <th></th>\n",
       "      <th>Id</th>\n",
       "      <th>0</th>\n",
       "      <th>1</th>\n",
       "      <th>2</th>\n",
       "    </tr>\n",
       "  </thead>\n",
       "  <tbody>\n",
       "    <tr>\n",
       "      <th>0</th>\n",
       "      <td>0</td>\n",
       "      <td>0.005456</td>\n",
       "      <td>0.059154</td>\n",
       "      <td>0.935390</td>\n",
       "    </tr>\n",
       "    <tr>\n",
       "      <th>1</th>\n",
       "      <td>1</td>\n",
       "      <td>0.587193</td>\n",
       "      <td>0.096689</td>\n",
       "      <td>0.316118</td>\n",
       "    </tr>\n",
       "    <tr>\n",
       "      <th>2</th>\n",
       "      <td>2</td>\n",
       "      <td>0.109296</td>\n",
       "      <td>0.024817</td>\n",
       "      <td>0.865887</td>\n",
       "    </tr>\n",
       "    <tr>\n",
       "      <th>3</th>\n",
       "      <td>3</td>\n",
       "      <td>0.051413</td>\n",
       "      <td>0.785471</td>\n",
       "      <td>0.163116</td>\n",
       "    </tr>\n",
       "    <tr>\n",
       "      <th>4</th>\n",
       "      <td>4</td>\n",
       "      <td>0.199829</td>\n",
       "      <td>0.040804</td>\n",
       "      <td>0.759366</td>\n",
       "    </tr>\n",
       "    <tr>\n",
       "      <th>...</th>\n",
       "      <td>...</td>\n",
       "      <td>...</td>\n",
       "      <td>...</td>\n",
       "      <td>...</td>\n",
       "    </tr>\n",
       "    <tr>\n",
       "      <th>819</th>\n",
       "      <td>819</td>\n",
       "      <td>0.584114</td>\n",
       "      <td>0.300483</td>\n",
       "      <td>0.115403</td>\n",
       "    </tr>\n",
       "    <tr>\n",
       "      <th>820</th>\n",
       "      <td>820</td>\n",
       "      <td>0.409795</td>\n",
       "      <td>0.205947</td>\n",
       "      <td>0.384258</td>\n",
       "    </tr>\n",
       "    <tr>\n",
       "      <th>821</th>\n",
       "      <td>821</td>\n",
       "      <td>0.842971</td>\n",
       "      <td>0.035456</td>\n",
       "      <td>0.121573</td>\n",
       "    </tr>\n",
       "    <tr>\n",
       "      <th>822</th>\n",
       "      <td>822</td>\n",
       "      <td>0.044320</td>\n",
       "      <td>0.020454</td>\n",
       "      <td>0.935226</td>\n",
       "    </tr>\n",
       "    <tr>\n",
       "      <th>823</th>\n",
       "      <td>823</td>\n",
       "      <td>0.236651</td>\n",
       "      <td>0.035944</td>\n",
       "      <td>0.727405</td>\n",
       "    </tr>\n",
       "  </tbody>\n",
       "</table>\n",
       "<p>824 rows × 4 columns</p>\n",
       "</div>\n",
       "    <div class=\"colab-df-buttons\">\n",
       "\n",
       "  <div class=\"colab-df-container\">\n",
       "    <button class=\"colab-df-convert\" onclick=\"convertToInteractive('df-3e8a60d3-ce8f-46f2-a3ee-4808dee16e72')\"\n",
       "            title=\"Convert this dataframe to an interactive table.\"\n",
       "            style=\"display:none;\">\n",
       "\n",
       "  <svg xmlns=\"http://www.w3.org/2000/svg\" height=\"24px\" viewBox=\"0 -960 960 960\">\n",
       "    <path d=\"M120-120v-720h720v720H120Zm60-500h600v-160H180v160Zm220 220h160v-160H400v160Zm0 220h160v-160H400v160ZM180-400h160v-160H180v160Zm440 0h160v-160H620v160ZM180-180h160v-160H180v160Zm440 0h160v-160H620v160Z\"/>\n",
       "  </svg>\n",
       "    </button>\n",
       "\n",
       "  <style>\n",
       "    .colab-df-container {\n",
       "      display:flex;\n",
       "      gap: 12px;\n",
       "    }\n",
       "\n",
       "    .colab-df-convert {\n",
       "      background-color: #E8F0FE;\n",
       "      border: none;\n",
       "      border-radius: 50%;\n",
       "      cursor: pointer;\n",
       "      display: none;\n",
       "      fill: #1967D2;\n",
       "      height: 32px;\n",
       "      padding: 0 0 0 0;\n",
       "      width: 32px;\n",
       "    }\n",
       "\n",
       "    .colab-df-convert:hover {\n",
       "      background-color: #E2EBFA;\n",
       "      box-shadow: 0px 1px 2px rgba(60, 64, 67, 0.3), 0px 1px 3px 1px rgba(60, 64, 67, 0.15);\n",
       "      fill: #174EA6;\n",
       "    }\n",
       "\n",
       "    .colab-df-buttons div {\n",
       "      margin-bottom: 4px;\n",
       "    }\n",
       "\n",
       "    [theme=dark] .colab-df-convert {\n",
       "      background-color: #3B4455;\n",
       "      fill: #D2E3FC;\n",
       "    }\n",
       "\n",
       "    [theme=dark] .colab-df-convert:hover {\n",
       "      background-color: #434B5C;\n",
       "      box-shadow: 0px 1px 3px 1px rgba(0, 0, 0, 0.15);\n",
       "      filter: drop-shadow(0px 1px 2px rgba(0, 0, 0, 0.3));\n",
       "      fill: #FFFFFF;\n",
       "    }\n",
       "  </style>\n",
       "\n",
       "    <script>\n",
       "      const buttonEl =\n",
       "        document.querySelector('#df-3e8a60d3-ce8f-46f2-a3ee-4808dee16e72 button.colab-df-convert');\n",
       "      buttonEl.style.display =\n",
       "        google.colab.kernel.accessAllowed ? 'block' : 'none';\n",
       "\n",
       "      async function convertToInteractive(key) {\n",
       "        const element = document.querySelector('#df-3e8a60d3-ce8f-46f2-a3ee-4808dee16e72');\n",
       "        const dataTable =\n",
       "          await google.colab.kernel.invokeFunction('convertToInteractive',\n",
       "                                                    [key], {});\n",
       "        if (!dataTable) return;\n",
       "\n",
       "        const docLinkHtml = 'Like what you see? Visit the ' +\n",
       "          '<a target=\"_blank\" href=https://colab.research.google.com/notebooks/data_table.ipynb>data table notebook</a>'\n",
       "          + ' to learn more about interactive tables.';\n",
       "        element.innerHTML = '';\n",
       "        dataTable['output_type'] = 'display_data';\n",
       "        await google.colab.output.renderOutput(dataTable, element);\n",
       "        const docLink = document.createElement('div');\n",
       "        docLink.innerHTML = docLinkHtml;\n",
       "        element.appendChild(docLink);\n",
       "      }\n",
       "    </script>\n",
       "  </div>\n",
       "\n",
       "\n",
       "<div id=\"df-2481368d-c2ae-4298-af6e-1f18246a2382\">\n",
       "  <button class=\"colab-df-quickchart\" onclick=\"quickchart('df-2481368d-c2ae-4298-af6e-1f18246a2382')\"\n",
       "            title=\"Suggest charts.\"\n",
       "            style=\"display:none;\">\n",
       "\n",
       "<svg xmlns=\"http://www.w3.org/2000/svg\" height=\"24px\"viewBox=\"0 0 24 24\"\n",
       "     width=\"24px\">\n",
       "    <g>\n",
       "        <path d=\"M19 3H5c-1.1 0-2 .9-2 2v14c0 1.1.9 2 2 2h14c1.1 0 2-.9 2-2V5c0-1.1-.9-2-2-2zM9 17H7v-7h2v7zm4 0h-2V7h2v10zm4 0h-2v-4h2v4z\"/>\n",
       "    </g>\n",
       "</svg>\n",
       "  </button>\n",
       "\n",
       "<style>\n",
       "  .colab-df-quickchart {\n",
       "      --bg-color: #E8F0FE;\n",
       "      --fill-color: #1967D2;\n",
       "      --hover-bg-color: #E2EBFA;\n",
       "      --hover-fill-color: #174EA6;\n",
       "      --disabled-fill-color: #AAA;\n",
       "      --disabled-bg-color: #DDD;\n",
       "  }\n",
       "\n",
       "  [theme=dark] .colab-df-quickchart {\n",
       "      --bg-color: #3B4455;\n",
       "      --fill-color: #D2E3FC;\n",
       "      --hover-bg-color: #434B5C;\n",
       "      --hover-fill-color: #FFFFFF;\n",
       "      --disabled-bg-color: #3B4455;\n",
       "      --disabled-fill-color: #666;\n",
       "  }\n",
       "\n",
       "  .colab-df-quickchart {\n",
       "    background-color: var(--bg-color);\n",
       "    border: none;\n",
       "    border-radius: 50%;\n",
       "    cursor: pointer;\n",
       "    display: none;\n",
       "    fill: var(--fill-color);\n",
       "    height: 32px;\n",
       "    padding: 0;\n",
       "    width: 32px;\n",
       "  }\n",
       "\n",
       "  .colab-df-quickchart:hover {\n",
       "    background-color: var(--hover-bg-color);\n",
       "    box-shadow: 0 1px 2px rgba(60, 64, 67, 0.3), 0 1px 3px 1px rgba(60, 64, 67, 0.15);\n",
       "    fill: var(--button-hover-fill-color);\n",
       "  }\n",
       "\n",
       "  .colab-df-quickchart-complete:disabled,\n",
       "  .colab-df-quickchart-complete:disabled:hover {\n",
       "    background-color: var(--disabled-bg-color);\n",
       "    fill: var(--disabled-fill-color);\n",
       "    box-shadow: none;\n",
       "  }\n",
       "\n",
       "  .colab-df-spinner {\n",
       "    border: 2px solid var(--fill-color);\n",
       "    border-color: transparent;\n",
       "    border-bottom-color: var(--fill-color);\n",
       "    animation:\n",
       "      spin 1s steps(1) infinite;\n",
       "  }\n",
       "\n",
       "  @keyframes spin {\n",
       "    0% {\n",
       "      border-color: transparent;\n",
       "      border-bottom-color: var(--fill-color);\n",
       "      border-left-color: var(--fill-color);\n",
       "    }\n",
       "    20% {\n",
       "      border-color: transparent;\n",
       "      border-left-color: var(--fill-color);\n",
       "      border-top-color: var(--fill-color);\n",
       "    }\n",
       "    30% {\n",
       "      border-color: transparent;\n",
       "      border-left-color: var(--fill-color);\n",
       "      border-top-color: var(--fill-color);\n",
       "      border-right-color: var(--fill-color);\n",
       "    }\n",
       "    40% {\n",
       "      border-color: transparent;\n",
       "      border-right-color: var(--fill-color);\n",
       "      border-top-color: var(--fill-color);\n",
       "    }\n",
       "    60% {\n",
       "      border-color: transparent;\n",
       "      border-right-color: var(--fill-color);\n",
       "    }\n",
       "    80% {\n",
       "      border-color: transparent;\n",
       "      border-right-color: var(--fill-color);\n",
       "      border-bottom-color: var(--fill-color);\n",
       "    }\n",
       "    90% {\n",
       "      border-color: transparent;\n",
       "      border-bottom-color: var(--fill-color);\n",
       "    }\n",
       "  }\n",
       "</style>\n",
       "\n",
       "  <script>\n",
       "    async function quickchart(key) {\n",
       "      const quickchartButtonEl =\n",
       "        document.querySelector('#' + key + ' button');\n",
       "      quickchartButtonEl.disabled = true;  // To prevent multiple clicks.\n",
       "      quickchartButtonEl.classList.add('colab-df-spinner');\n",
       "      try {\n",
       "        const charts = await google.colab.kernel.invokeFunction(\n",
       "            'suggestCharts', [key], {});\n",
       "      } catch (error) {\n",
       "        console.error('Error during call to suggestCharts:', error);\n",
       "      }\n",
       "      quickchartButtonEl.classList.remove('colab-df-spinner');\n",
       "      quickchartButtonEl.classList.add('colab-df-quickchart-complete');\n",
       "    }\n",
       "    (() => {\n",
       "      let quickchartButtonEl =\n",
       "        document.querySelector('#df-2481368d-c2ae-4298-af6e-1f18246a2382 button');\n",
       "      quickchartButtonEl.style.display =\n",
       "        google.colab.kernel.accessAllowed ? 'block' : 'none';\n",
       "    })();\n",
       "  </script>\n",
       "</div>\n",
       "    </div>\n",
       "  </div>\n"
      ],
      "text/plain": [
       "      Id         0         1         2\n",
       "0      0  0.005456  0.059154  0.935390\n",
       "1      1  0.587193  0.096689  0.316118\n",
       "2      2  0.109296  0.024817  0.865887\n",
       "3      3  0.051413  0.785471  0.163116\n",
       "4      4  0.199829  0.040804  0.759366\n",
       "..   ...       ...       ...       ...\n",
       "819  819  0.584114  0.300483  0.115403\n",
       "820  820  0.409795  0.205947  0.384258\n",
       "821  821  0.842971  0.035456  0.121573\n",
       "822  822  0.044320  0.020454  0.935226\n",
       "823  823  0.236651  0.035944  0.727405\n",
       "\n",
       "[824 rows x 4 columns]"
      ]
     },
     "execution_count": 73,
     "metadata": {},
     "output_type": "execute_result"
    }
   ],
   "source": [
    "pred"
   ]
  },
  {
   "cell_type": "code",
   "execution_count": null,
   "metadata": {
    "id": "GvILFxDKbXvl"
   },
   "outputs": [],
   "source": [
    "res = []\n",
    "pred = pred[['0', '1', '2']]"
   ]
  },
  {
   "cell_type": "code",
   "execution_count": null,
   "metadata": {
    "id": "6OJIA7-EcbBX"
   },
   "outputs": [],
   "source": [
    "res = []\n",
    "pred = pred[['0', '1', '2']]\n",
    "for i in range(len(pred)):\n",
    "  pr = [pred['0'].iloc[i], pred['1'].iloc[i], pred['2'].iloc[i]]\n",
    "  res.append(pr.index(max(pr)))"
   ]
  },
  {
   "cell_type": "code",
   "execution_count": null,
   "metadata": {
    "id": "pxTEWEVldg_U"
   },
   "outputs": [],
   "source": [
    "pred = lab.inverse_transform(res)"
   ]
  },
  {
   "cell_type": "code",
   "execution_count": null,
   "metadata": {
    "id": "bL9L1TNrdquM"
   },
   "outputs": [],
   "source": [
    "submit['outcome'] = pred"
   ]
  },
  {
   "cell_type": "code",
   "execution_count": null,
   "metadata": {
    "id": "WJC7Rpcpdwrt"
   },
   "outputs": [],
   "source": [
    "submit.to_csv('pred_pca.csv', index = False)"
   ]
  },
  {
   "cell_type": "markdown",
   "metadata": {
    "id": "Gz1Y2RaXs_22"
   },
   "source": [
    "# Random Forest Optuna + validation"
   ]
  },
  {
   "cell_type": "code",
   "execution_count": null,
   "metadata": {
    "id": "STohVM5Jbdvw"
   },
   "outputs": [],
   "source": [
    "from sklearn.ensemble import RandomForestClassifier"
   ]
  },
  {
   "cell_type": "code",
   "execution_count": null,
   "metadata": {
    "id": "jCQ_6eyHe6Pa"
   },
   "outputs": [],
   "source": [
    "from sklearn.model_selection import train_test_split"
   ]
  },
  {
   "cell_type": "code",
   "execution_count": null,
   "metadata": {
    "id": "bdaTBPMFeqdi"
   },
   "outputs": [],
   "source": [
    "def objective(trial):\n",
    "    train_x, valid_x, train_y, valid_y = train_test_split(X,y, test_size=0.3)\n",
    "\n",
    "    param = {\n",
    "        \"max_depth\": trial.suggest_int(\"max_depth\", 100, 700, step = 100),\n",
    "        'criterion' : trial.suggest_categorical('criterion', ['gini', 'entropy', 'log_loss']),\n",
    "        'n_estimators' : trial.suggest_int('n_estimators', 10, 500, step = 50),\n",
    "        'min_samples_split' : trial.suggest_int('min_samples_split', 2, 16, step = 3),\n",
    "\n",
    "    }\n",
    "\n",
    "\n",
    "    rfr = RandomForestClassifier(**param)\n",
    "\n",
    "    rfr.fit(train_x, train_y)\n",
    "    preds = rfr.predict(valid_x)\n",
    "    accuracy = f1_score(valid_y, preds, average = 'micro')\n",
    "    return accuracy"
   ]
  },
  {
   "cell_type": "code",
   "execution_count": null,
   "metadata": {
    "colab": {
     "base_uri": "https://localhost:8080/"
    },
    "id": "HozMCTYseyPb",
    "outputId": "8cd6d030-fcf2-4411-a41a-8669e1dd0ecd"
   },
   "outputs": [],
   "source": [
    "study = optuna.create_study(direction=\"maximize\")\n",
    "study.optimize(objective, n_trials=50, timeout=300)"
   ]
  },
  {
   "cell_type": "code",
   "execution_count": null,
   "metadata": {
    "colab": {
     "base_uri": "https://localhost:8080/"
    },
    "id": "HKMj9feNgtkW",
    "outputId": "e0644536-d150-4400-b8dd-10620a57dcd1"
   },
   "outputs": [
    {
     "name": "stdout",
     "output_type": "stream",
     "text": [
      "Number of finished trials: 50\n",
      "Best trial:\n",
      "  Value: 0.7520215633423181\n",
      "  Params: \n",
      "    max_depth: 300\n",
      "    criterion: entropy\n",
      "    n_estimators: 210\n",
      "    min_samples_split: 11\n"
     ]
    }
   ],
   "source": [
    "print(\"Number of finished trials: {}\".format(len(study.trials)))\n",
    "\n",
    "print(\"Best trial:\")\n",
    "trial = study.best_trial\n",
    "\n",
    "print(\"  Value: {}\".format(trial.value))\n",
    "\n",
    "print(\"  Params: \")\n",
    "for key, value in trial.params.items():\n",
    "    print(\"    {}: {}\".format(key, value))"
   ]
  },
  {
   "cell_type": "code",
   "execution_count": null,
   "metadata": {
    "colab": {
     "base_uri": "https://localhost:8080/"
    },
    "id": "wVF8yzI-hYRQ",
    "outputId": "e49dc8e0-efe2-4ad6-ff7d-7fa39a1f7819"
   },
   "outputs": [
    {
     "name": "stderr",
     "output_type": "stream",
     "text": [
      "<ipython-input-3-14675dc3790b>:8: DataConversionWarning: A column-vector y was passed when a 1d array was expected. Please change the shape of y to (n_samples,), for example using ravel().\n",
      "  model.fit(X_train, y_train)\n"
     ]
    },
    {
     "name": "stdout",
     "output_type": "stream",
     "text": [
      "0.7125506072874493\n"
     ]
    },
    {
     "name": "stderr",
     "output_type": "stream",
     "text": [
      "<ipython-input-3-14675dc3790b>:8: DataConversionWarning: A column-vector y was passed when a 1d array was expected. Please change the shape of y to (n_samples,), for example using ravel().\n",
      "  model.fit(X_train, y_train)\n"
     ]
    },
    {
     "name": "stdout",
     "output_type": "stream",
     "text": [
      "0.7165991902834008\n"
     ]
    },
    {
     "name": "stderr",
     "output_type": "stream",
     "text": [
      "<ipython-input-3-14675dc3790b>:8: DataConversionWarning: A column-vector y was passed when a 1d array was expected. Please change the shape of y to (n_samples,), for example using ravel().\n",
      "  model.fit(X_train, y_train)\n"
     ]
    },
    {
     "name": "stdout",
     "output_type": "stream",
     "text": [
      "0.6923076923076923\n"
     ]
    },
    {
     "name": "stderr",
     "output_type": "stream",
     "text": [
      "<ipython-input-3-14675dc3790b>:8: DataConversionWarning: A column-vector y was passed when a 1d array was expected. Please change the shape of y to (n_samples,), for example using ravel().\n",
      "  model.fit(X_train, y_train)\n"
     ]
    },
    {
     "name": "stdout",
     "output_type": "stream",
     "text": [
      "0.6923076923076923\n"
     ]
    },
    {
     "name": "stderr",
     "output_type": "stream",
     "text": [
      "<ipython-input-3-14675dc3790b>:8: DataConversionWarning: A column-vector y was passed when a 1d array was expected. Please change the shape of y to (n_samples,), for example using ravel().\n",
      "  model.fit(X_train, y_train)\n"
     ]
    },
    {
     "name": "stdout",
     "output_type": "stream",
     "text": [
      "0.6842105263157895\n",
      "0.6995951417004049 0.012648177612804287\n"
     ]
    }
   ],
   "source": [
    "rfr = cross_validate(RandomForestClassifier(max_depth = 300, criterion = 'entropy', n_estimators = 210,\\\n",
    "                                            min_samples_split = 11), X, y)"
   ]
  },
  {
   "cell_type": "code",
   "execution_count": null,
   "metadata": {
    "id": "eeNW8Plei2Uu"
   },
   "outputs": [],
   "source": [
    "train_pred = pred_cross(rfr, X)\n",
    "train_pred = pd.DataFrame(train_pred)\n",
    "train_pred.to_csv('rfr_train.csv')\n",
    "\n",
    "test_pred = pred_cross(rfr, test)\n",
    "test_pred = lab.inverse_transform(test_pred)\n",
    "test_pred = pd.DataFrame(test_pred)\n",
    "test_pred.to_csv('rfr_test.csv')\n",
    "\n",
    "submit['outcome'] = test_pred\n",
    "submit.to_csv('rfr.csv', index = False)"
   ]
  },
  {
   "cell_type": "markdown",
   "metadata": {
    "id": "6u5adwMHtOKd"
   },
   "source": [
    "# CatBoost + optuna + cross_validation"
   ]
  },
  {
   "cell_type": "code",
   "execution_count": null,
   "metadata": {
    "id": "W8zBcsV7mmFf"
   },
   "outputs": [],
   "source": [
    "def objective(trial):\n",
    "    train_x, valid_x, train_y, valid_y = train_test_split(X,y, test_size=0.3)\n",
    "\n",
    "    param = {\n",
    "        'iterations' : trial.suggest_int(\"iterations\", 100, 1000),\n",
    "        'learning_rate':trial.suggest_float(\"learning_rate\", 1e-3, 1e-1, log=True),\n",
    "        'depth':trial.suggest_int(\"depth\", 4, 10),\n",
    "        'l2_leaf_reg':trial.suggest_float(\"l2_leaf_reg\", 1e-8, 100.0, log=True),\n",
    "       'bootstrap_type':trial.suggest_categorical(\"bootstrap_type\", [\"Bayesian\"]),\n",
    "        'random_strength':trial.suggest_float(\"random_strength\", 1e-8, 10.0, log=True),\n",
    "        'bagging_temperature':trial.suggest_float(\"bagging_temperature\", 0.0, 10.0),\n",
    "        'od_type':trial.suggest_categorical(\"od_type\", [\"IncToDec\", \"Iter\"]),\n",
    "        'od_wait':trial.suggest_int(\"od_wait\", 10, 50),\n",
    "    }\n",
    "\n",
    "    if param[\"bootstrap_type\"] == \"Bayesian\":\n",
    "        param[\"bagging_temperature\"] = trial.suggest_float(\"bagging_temperature\", 0, 10)\n",
    "    elif param[\"bootstrap_type\"] == \"Bernoulli\":\n",
    "        param[\"subsample\"] = trial.suggest_float(\"subsample\", 0.1, 1)\n",
    "\n",
    "    cb = CatBoostClassifier(**param, cat_features = [x for x in X.columns if X[x].dtype == 'object'])\n",
    "\n",
    "    cb.fit(train_x, train_y, eval_set=[(valid_x, valid_y)], verbose=0, early_stopping_rounds=100)\n",
    "\n",
    "    preds = cb.predict(valid_x)\n",
    "    accuracy = f1_score(valid_y, preds, average = 'micro')\n",
    "    return accuracy"
   ]
  },
  {
   "cell_type": "code",
   "execution_count": null,
   "metadata": {
    "colab": {
     "base_uri": "https://localhost:8080/"
    },
    "id": "ErH3SQ2OmqxR",
    "outputId": "2529da66-0f87-441a-c223-353fd1e6681a"
   },
   "outputs": [],
   "source": [
    "study = optuna.create_study(direction=\"maximize\")\n",
    "study.optimize(objective, n_trials=50, timeout=600)"
   ]
  },
  {
   "cell_type": "code",
   "execution_count": null,
   "metadata": {
    "colab": {
     "base_uri": "https://localhost:8080/"
    },
    "id": "yrc88ZnkmrLF",
    "outputId": "b7fd8467-fbe6-4512-88f7-463ab02c4523"
   },
   "outputs": [
    {
     "name": "stdout",
     "output_type": "stream",
     "text": [
      "Number of finished trials: 23\n",
      "Best trial:\n",
      "  Value: 0.7412398921832885\n",
      "  Params: \n",
      "    iterations: 715\n",
      "    learning_rate: 0.0047062999065665976\n",
      "    depth: 8\n",
      "    l2_leaf_reg: 3.810242868650054e-05\n",
      "    bootstrap_type: Bayesian\n",
      "    random_strength: 2.1222582555976902e-05\n",
      "    bagging_temperature: 2.708922704223478\n",
      "    od_type: Iter\n",
      "    od_wait: 10\n"
     ]
    }
   ],
   "source": [
    "print(\"Number of finished trials: {}\".format(len(study.trials)))\n",
    "\n",
    "print(\"Best trial:\")\n",
    "trial = study.best_trial\n",
    "\n",
    "print(\"  Value: {}\".format(trial.value))\n",
    "\n",
    "print(\"  Params: \")\n",
    "for key, value in trial.params.items():\n",
    "    print(\"    {}: {}\".format(key, value))"
   ]
  },
  {
   "cell_type": "code",
   "execution_count": null,
   "metadata": {
    "colab": {
     "base_uri": "https://localhost:8080/"
    },
    "id": "OpKdhkw0s18Y",
    "outputId": "650b8422-57c6-4770-9e59-4465fede3aa5"
   },
   "outputs": [
    {
     "name": "stdout",
     "output_type": "stream",
     "text": [
      "0.7165991902834008\n",
      "0.7125506072874493\n",
      "0.6923076923076923\n",
      "0.7044534412955465\n",
      "0.6842105263157895\n",
      "0.7020242914979757 0.012172709618115701\n"
     ]
    }
   ],
   "source": [
    "cat = cross_validate(CatBoostClassifier(iterations = 715, learning_rate = 0.0047062999065665976,\n",
    "    depth = 8, l2_leaf_reg = 3.810242868650054e-05, bootstrap_type = 'Bayesian',\n",
    "    random_strength = 2.1222582555976902e-05, bagging_temperature = 2.708922704223478,\n",
    "    od_type = 'Iter', od_wait = 10, cat_features = [x for x in X.columns if X[x].dtype == 'object'], verbose = 0), X, y)"
   ]
  },
  {
   "cell_type": "code",
   "execution_count": null,
   "metadata": {
    "id": "zZ-iYBgNuG9j"
   },
   "outputs": [],
   "source": [
    "train_pred = pred_cross(cat, X)\n",
    "train_pred = pd.DataFrame(train_pred)\n",
    "train_pred.to_csv('cb_train.csv')\n",
    "\n",
    "test_pred = pred_cross(cat, test)\n",
    "test_pred = lab.inverse_transform(test_pred)\n",
    "test_pred = pd.DataFrame(test_pred)\n",
    "test_pred.to_csv('cb_test.csv')\n",
    "\n",
    "submit['outcome'] = test_pred\n",
    "submit.to_csv('cb.csv', index = False)"
   ]
  },
  {
   "cell_type": "markdown",
   "metadata": {
    "id": "aA88D9q4taGW"
   },
   "source": [
    "# Stacking"
   ]
  },
  {
   "cell_type": "code",
   "execution_count": null,
   "metadata": {
    "id": "_Le0Kh-aw6yy"
   },
   "outputs": [],
   "source": [
    "pred = pd.read_csv('/content/xgb_train_pred.csv')\n",
    "res = []\n",
    "pred = pred[['0', '1', '2']]\n",
    "for i in range(len(pred)):\n",
    "  pr = [pred['0'].iloc[i], pred['1'].iloc[i], pred['2'].iloc[i]]\n",
    "  res.append(pr.index(max(pr)))"
   ]
  },
  {
   "cell_type": "code",
   "execution_count": null,
   "metadata": {
    "id": "sx870GQLwe20"
   },
   "outputs": [],
   "source": [
    "train = pd.DataFrame()"
   ]
  },
  {
   "cell_type": "code",
   "execution_count": null,
   "metadata": {
    "id": "mxMmZSMHwjXH"
   },
   "outputs": [],
   "source": [
    "train['rfr'] = pd.read_csv('rfr_train.csv')['0']\n",
    "train['cb'] = pd.read_csv('cb_train.csv')['0']\n",
    "train['xgb'] = res"
   ]
  },
  {
   "cell_type": "code",
   "execution_count": null,
   "metadata": {
    "id": "yR8UivF7xcxw"
   },
   "outputs": [],
   "source": [
    "pred = pd.read_csv('/content/xgb_test_predictions.csv')\n",
    "res = []\n",
    "pred = pred[['0', '1', '2']]\n",
    "for i in range(len(pred)):\n",
    "  pr = [pred['0'].iloc[i], pred['1'].iloc[i], pred['2'].iloc[i]]\n",
    "  res.append(pr.index(max(pr)))"
   ]
  },
  {
   "cell_type": "code",
   "execution_count": null,
   "metadata": {
    "id": "40iKxs16xhzp"
   },
   "outputs": [],
   "source": [
    "test = pd.DataFrame()\n",
    "test['rfr'] = pd.read_csv('rfr_test.csv')['0']\n",
    "test['cb'] = lab.transform(pd.read_csv('cb_test.csv')['0'])\n",
    "test['xgb'] = res"
   ]
  },
  {
   "cell_type": "code",
   "execution_count": null,
   "metadata": {
    "colab": {
     "base_uri": "https://localhost:8080/",
     "height": 419
    },
    "id": "wjQRv8wyxnZd",
    "outputId": "94fe0e2f-aa2f-4548-ffb8-1e46b4698c3a"
   },
   "outputs": [
    {
     "data": {
      "text/html": [
       "\n",
       "  <div id=\"df-32c8ffd5-6a9a-4481-9d73-a84c4d2661cd\" class=\"colab-df-container\">\n",
       "    <div>\n",
       "<style scoped>\n",
       "    .dataframe tbody tr th:only-of-type {\n",
       "        vertical-align: middle;\n",
       "    }\n",
       "\n",
       "    .dataframe tbody tr th {\n",
       "        vertical-align: top;\n",
       "    }\n",
       "\n",
       "    .dataframe thead th {\n",
       "        text-align: right;\n",
       "    }\n",
       "</style>\n",
       "<table border=\"1\" class=\"dataframe\">\n",
       "  <thead>\n",
       "    <tr style=\"text-align: right;\">\n",
       "      <th></th>\n",
       "      <th>rfr</th>\n",
       "      <th>cb</th>\n",
       "      <th>xgb</th>\n",
       "    </tr>\n",
       "  </thead>\n",
       "  <tbody>\n",
       "    <tr>\n",
       "      <th>0</th>\n",
       "      <td>2</td>\n",
       "      <td>2</td>\n",
       "      <td>2</td>\n",
       "    </tr>\n",
       "    <tr>\n",
       "      <th>1</th>\n",
       "      <td>0</td>\n",
       "      <td>0</td>\n",
       "      <td>0</td>\n",
       "    </tr>\n",
       "    <tr>\n",
       "      <th>2</th>\n",
       "      <td>2</td>\n",
       "      <td>2</td>\n",
       "      <td>2</td>\n",
       "    </tr>\n",
       "    <tr>\n",
       "      <th>3</th>\n",
       "      <td>1</td>\n",
       "      <td>1</td>\n",
       "      <td>1</td>\n",
       "    </tr>\n",
       "    <tr>\n",
       "      <th>4</th>\n",
       "      <td>2</td>\n",
       "      <td>2</td>\n",
       "      <td>2</td>\n",
       "    </tr>\n",
       "    <tr>\n",
       "      <th>...</th>\n",
       "      <td>...</td>\n",
       "      <td>...</td>\n",
       "      <td>...</td>\n",
       "    </tr>\n",
       "    <tr>\n",
       "      <th>819</th>\n",
       "      <td>0</td>\n",
       "      <td>0</td>\n",
       "      <td>0</td>\n",
       "    </tr>\n",
       "    <tr>\n",
       "      <th>820</th>\n",
       "      <td>1</td>\n",
       "      <td>1</td>\n",
       "      <td>2</td>\n",
       "    </tr>\n",
       "    <tr>\n",
       "      <th>821</th>\n",
       "      <td>0</td>\n",
       "      <td>0</td>\n",
       "      <td>0</td>\n",
       "    </tr>\n",
       "    <tr>\n",
       "      <th>822</th>\n",
       "      <td>2</td>\n",
       "      <td>2</td>\n",
       "      <td>2</td>\n",
       "    </tr>\n",
       "    <tr>\n",
       "      <th>823</th>\n",
       "      <td>2</td>\n",
       "      <td>2</td>\n",
       "      <td>2</td>\n",
       "    </tr>\n",
       "  </tbody>\n",
       "</table>\n",
       "<p>824 rows × 3 columns</p>\n",
       "</div>\n",
       "    <div class=\"colab-df-buttons\">\n",
       "\n",
       "  <div class=\"colab-df-container\">\n",
       "    <button class=\"colab-df-convert\" onclick=\"convertToInteractive('df-32c8ffd5-6a9a-4481-9d73-a84c4d2661cd')\"\n",
       "            title=\"Convert this dataframe to an interactive table.\"\n",
       "            style=\"display:none;\">\n",
       "\n",
       "  <svg xmlns=\"http://www.w3.org/2000/svg\" height=\"24px\" viewBox=\"0 -960 960 960\">\n",
       "    <path d=\"M120-120v-720h720v720H120Zm60-500h600v-160H180v160Zm220 220h160v-160H400v160Zm0 220h160v-160H400v160ZM180-400h160v-160H180v160Zm440 0h160v-160H620v160ZM180-180h160v-160H180v160Zm440 0h160v-160H620v160Z\"/>\n",
       "  </svg>\n",
       "    </button>\n",
       "\n",
       "  <style>\n",
       "    .colab-df-container {\n",
       "      display:flex;\n",
       "      gap: 12px;\n",
       "    }\n",
       "\n",
       "    .colab-df-convert {\n",
       "      background-color: #E8F0FE;\n",
       "      border: none;\n",
       "      border-radius: 50%;\n",
       "      cursor: pointer;\n",
       "      display: none;\n",
       "      fill: #1967D2;\n",
       "      height: 32px;\n",
       "      padding: 0 0 0 0;\n",
       "      width: 32px;\n",
       "    }\n",
       "\n",
       "    .colab-df-convert:hover {\n",
       "      background-color: #E2EBFA;\n",
       "      box-shadow: 0px 1px 2px rgba(60, 64, 67, 0.3), 0px 1px 3px 1px rgba(60, 64, 67, 0.15);\n",
       "      fill: #174EA6;\n",
       "    }\n",
       "\n",
       "    .colab-df-buttons div {\n",
       "      margin-bottom: 4px;\n",
       "    }\n",
       "\n",
       "    [theme=dark] .colab-df-convert {\n",
       "      background-color: #3B4455;\n",
       "      fill: #D2E3FC;\n",
       "    }\n",
       "\n",
       "    [theme=dark] .colab-df-convert:hover {\n",
       "      background-color: #434B5C;\n",
       "      box-shadow: 0px 1px 3px 1px rgba(0, 0, 0, 0.15);\n",
       "      filter: drop-shadow(0px 1px 2px rgba(0, 0, 0, 0.3));\n",
       "      fill: #FFFFFF;\n",
       "    }\n",
       "  </style>\n",
       "\n",
       "    <script>\n",
       "      const buttonEl =\n",
       "        document.querySelector('#df-32c8ffd5-6a9a-4481-9d73-a84c4d2661cd button.colab-df-convert');\n",
       "      buttonEl.style.display =\n",
       "        google.colab.kernel.accessAllowed ? 'block' : 'none';\n",
       "\n",
       "      async function convertToInteractive(key) {\n",
       "        const element = document.querySelector('#df-32c8ffd5-6a9a-4481-9d73-a84c4d2661cd');\n",
       "        const dataTable =\n",
       "          await google.colab.kernel.invokeFunction('convertToInteractive',\n",
       "                                                    [key], {});\n",
       "        if (!dataTable) return;\n",
       "\n",
       "        const docLinkHtml = 'Like what you see? Visit the ' +\n",
       "          '<a target=\"_blank\" href=https://colab.research.google.com/notebooks/data_table.ipynb>data table notebook</a>'\n",
       "          + ' to learn more about interactive tables.';\n",
       "        element.innerHTML = '';\n",
       "        dataTable['output_type'] = 'display_data';\n",
       "        await google.colab.output.renderOutput(dataTable, element);\n",
       "        const docLink = document.createElement('div');\n",
       "        docLink.innerHTML = docLinkHtml;\n",
       "        element.appendChild(docLink);\n",
       "      }\n",
       "    </script>\n",
       "  </div>\n",
       "\n",
       "\n",
       "<div id=\"df-777af91d-87a6-4e6b-9c96-9d8c422d0539\">\n",
       "  <button class=\"colab-df-quickchart\" onclick=\"quickchart('df-777af91d-87a6-4e6b-9c96-9d8c422d0539')\"\n",
       "            title=\"Suggest charts.\"\n",
       "            style=\"display:none;\">\n",
       "\n",
       "<svg xmlns=\"http://www.w3.org/2000/svg\" height=\"24px\"viewBox=\"0 0 24 24\"\n",
       "     width=\"24px\">\n",
       "    <g>\n",
       "        <path d=\"M19 3H5c-1.1 0-2 .9-2 2v14c0 1.1.9 2 2 2h14c1.1 0 2-.9 2-2V5c0-1.1-.9-2-2-2zM9 17H7v-7h2v7zm4 0h-2V7h2v10zm4 0h-2v-4h2v4z\"/>\n",
       "    </g>\n",
       "</svg>\n",
       "  </button>\n",
       "\n",
       "<style>\n",
       "  .colab-df-quickchart {\n",
       "      --bg-color: #E8F0FE;\n",
       "      --fill-color: #1967D2;\n",
       "      --hover-bg-color: #E2EBFA;\n",
       "      --hover-fill-color: #174EA6;\n",
       "      --disabled-fill-color: #AAA;\n",
       "      --disabled-bg-color: #DDD;\n",
       "  }\n",
       "\n",
       "  [theme=dark] .colab-df-quickchart {\n",
       "      --bg-color: #3B4455;\n",
       "      --fill-color: #D2E3FC;\n",
       "      --hover-bg-color: #434B5C;\n",
       "      --hover-fill-color: #FFFFFF;\n",
       "      --disabled-bg-color: #3B4455;\n",
       "      --disabled-fill-color: #666;\n",
       "  }\n",
       "\n",
       "  .colab-df-quickchart {\n",
       "    background-color: var(--bg-color);\n",
       "    border: none;\n",
       "    border-radius: 50%;\n",
       "    cursor: pointer;\n",
       "    display: none;\n",
       "    fill: var(--fill-color);\n",
       "    height: 32px;\n",
       "    padding: 0;\n",
       "    width: 32px;\n",
       "  }\n",
       "\n",
       "  .colab-df-quickchart:hover {\n",
       "    background-color: var(--hover-bg-color);\n",
       "    box-shadow: 0 1px 2px rgba(60, 64, 67, 0.3), 0 1px 3px 1px rgba(60, 64, 67, 0.15);\n",
       "    fill: var(--button-hover-fill-color);\n",
       "  }\n",
       "\n",
       "  .colab-df-quickchart-complete:disabled,\n",
       "  .colab-df-quickchart-complete:disabled:hover {\n",
       "    background-color: var(--disabled-bg-color);\n",
       "    fill: var(--disabled-fill-color);\n",
       "    box-shadow: none;\n",
       "  }\n",
       "\n",
       "  .colab-df-spinner {\n",
       "    border: 2px solid var(--fill-color);\n",
       "    border-color: transparent;\n",
       "    border-bottom-color: var(--fill-color);\n",
       "    animation:\n",
       "      spin 1s steps(1) infinite;\n",
       "  }\n",
       "\n",
       "  @keyframes spin {\n",
       "    0% {\n",
       "      border-color: transparent;\n",
       "      border-bottom-color: var(--fill-color);\n",
       "      border-left-color: var(--fill-color);\n",
       "    }\n",
       "    20% {\n",
       "      border-color: transparent;\n",
       "      border-left-color: var(--fill-color);\n",
       "      border-top-color: var(--fill-color);\n",
       "    }\n",
       "    30% {\n",
       "      border-color: transparent;\n",
       "      border-left-color: var(--fill-color);\n",
       "      border-top-color: var(--fill-color);\n",
       "      border-right-color: var(--fill-color);\n",
       "    }\n",
       "    40% {\n",
       "      border-color: transparent;\n",
       "      border-right-color: var(--fill-color);\n",
       "      border-top-color: var(--fill-color);\n",
       "    }\n",
       "    60% {\n",
       "      border-color: transparent;\n",
       "      border-right-color: var(--fill-color);\n",
       "    }\n",
       "    80% {\n",
       "      border-color: transparent;\n",
       "      border-right-color: var(--fill-color);\n",
       "      border-bottom-color: var(--fill-color);\n",
       "    }\n",
       "    90% {\n",
       "      border-color: transparent;\n",
       "      border-bottom-color: var(--fill-color);\n",
       "    }\n",
       "  }\n",
       "</style>\n",
       "\n",
       "  <script>\n",
       "    async function quickchart(key) {\n",
       "      const quickchartButtonEl =\n",
       "        document.querySelector('#' + key + ' button');\n",
       "      quickchartButtonEl.disabled = true;  // To prevent multiple clicks.\n",
       "      quickchartButtonEl.classList.add('colab-df-spinner');\n",
       "      try {\n",
       "        const charts = await google.colab.kernel.invokeFunction(\n",
       "            'suggestCharts', [key], {});\n",
       "      } catch (error) {\n",
       "        console.error('Error during call to suggestCharts:', error);\n",
       "      }\n",
       "      quickchartButtonEl.classList.remove('colab-df-spinner');\n",
       "      quickchartButtonEl.classList.add('colab-df-quickchart-complete');\n",
       "    }\n",
       "    (() => {\n",
       "      let quickchartButtonEl =\n",
       "        document.querySelector('#df-777af91d-87a6-4e6b-9c96-9d8c422d0539 button');\n",
       "      quickchartButtonEl.style.display =\n",
       "        google.colab.kernel.accessAllowed ? 'block' : 'none';\n",
       "    })();\n",
       "  </script>\n",
       "</div>\n",
       "    </div>\n",
       "  </div>\n"
      ],
      "text/plain": [
       "     rfr  cb  xgb\n",
       "0      2   2    2\n",
       "1      0   0    0\n",
       "2      2   2    2\n",
       "3      1   1    1\n",
       "4      2   2    2\n",
       "..   ...  ..  ...\n",
       "819    0   0    0\n",
       "820    1   1    2\n",
       "821    0   0    0\n",
       "822    2   2    2\n",
       "823    2   2    2\n",
       "\n",
       "[824 rows x 3 columns]"
      ]
     },
     "execution_count": 69,
     "metadata": {},
     "output_type": "execute_result"
    }
   ],
   "source": [
    "test"
   ]
  },
  {
   "cell_type": "code",
   "execution_count": null,
   "metadata": {
    "colab": {
     "base_uri": "https://localhost:8080/"
    },
    "id": "RudhdviyxJA7",
    "outputId": "168aa6b1-4b30-4f03-f3b4-8c3b6a018cb3"
   },
   "outputs": [
    {
     "name": "stderr",
     "output_type": "stream",
     "text": [
      "<ipython-input-3-ece8311cbbf7>:8: DataConversionWarning: A column-vector y was passed when a 1d array was expected. Please change the shape of y to (n_samples,), for example using ravel().\n",
      "  model.fit(X_train, y_train)\n",
      "<ipython-input-3-ece8311cbbf7>:8: DataConversionWarning: A column-vector y was passed when a 1d array was expected. Please change the shape of y to (n_samples,), for example using ravel().\n",
      "  model.fit(X_train, y_train)\n"
     ]
    },
    {
     "name": "stdout",
     "output_type": "stream",
     "text": [
      "0.9473684210526315\n",
      "0.9230769230769231\n"
     ]
    },
    {
     "name": "stderr",
     "output_type": "stream",
     "text": [
      "<ipython-input-3-ece8311cbbf7>:8: DataConversionWarning: A column-vector y was passed when a 1d array was expected. Please change the shape of y to (n_samples,), for example using ravel().\n",
      "  model.fit(X_train, y_train)\n",
      "<ipython-input-3-ece8311cbbf7>:8: DataConversionWarning: A column-vector y was passed when a 1d array was expected. Please change the shape of y to (n_samples,), for example using ravel().\n",
      "  model.fit(X_train, y_train)\n"
     ]
    },
    {
     "name": "stdout",
     "output_type": "stream",
     "text": [
      "0.9392712550607287\n",
      "0.9433198380566802\n",
      "0.6842105263157895\n",
      "0.8874493927125506 0.10195357744729619\n"
     ]
    },
    {
     "name": "stderr",
     "output_type": "stream",
     "text": [
      "<ipython-input-3-ece8311cbbf7>:8: DataConversionWarning: A column-vector y was passed when a 1d array was expected. Please change the shape of y to (n_samples,), for example using ravel().\n",
      "  model.fit(X_train, y_train)\n"
     ]
    }
   ],
   "source": [
    "model = cross_validate(RandomForestClassifier(), train, y)"
   ]
  },
  {
   "cell_type": "code",
   "execution_count": null,
   "metadata": {
    "id": "B-pv6-Irx2SR"
   },
   "outputs": [],
   "source": [
    "pred = pred_cross(model, test)"
   ]
  },
  {
   "cell_type": "code",
   "execution_count": null,
   "metadata": {
    "id": "imwJd14Tx7YP"
   },
   "outputs": [],
   "source": [
    "submit['outcome'] = lab.inverse_transform(pred)"
   ]
  },
  {
   "cell_type": "code",
   "execution_count": null,
   "metadata": {
    "id": "V7sKWJQAyDWS"
   },
   "outputs": [],
   "source": [
    "submit.to_csv('stacking.csv', index = False)"
   ]
  }
 ],
 "metadata": {
  "accelerator": "GPU",
  "colab": {
   "gpuType": "T4",
   "provenance": []
  },
  "kernelspec": {
   "display_name": "Python 3 (ipykernel)",
   "language": "python",
   "name": "python3"
  },
  "language_info": {
   "codemirror_mode": {
    "name": "ipython",
    "version": 3
   },
   "file_extension": ".py",
   "mimetype": "text/x-python",
   "name": "python",
   "nbconvert_exporter": "python",
   "pygments_lexer": "ipython3",
   "version": "3.11.2"
  }
 },
 "nbformat": 4,
 "nbformat_minor": 1
}
