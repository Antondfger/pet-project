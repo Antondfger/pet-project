{
  "nbformat": 4,
  "nbformat_minor": 0,
  "metadata": {
    "colab": {
      "provenance": []
    },
    "kernelspec": {
      "name": "python3",
      "display_name": "Python 3"
    },
    "language_info": {
      "name": "python"
    }
  },
  "cells": [
    {
      "cell_type": "code",
      "execution_count": 19,
      "metadata": {
        "id": "i31TLuQP6UA-",
        "colab": {
          "base_uri": "https://localhost:8080/"
        },
        "outputId": "d1355fbb-4292-4db8-8351-1d766bd906ce"
      },
      "outputs": [
        {
          "output_type": "stream",
          "name": "stdout",
          "text": [
            "Collecting haversine\n",
            "  Downloading haversine-2.8.0-py2.py3-none-any.whl (7.7 kB)\n",
            "Installing collected packages: haversine\n",
            "Successfully installed haversine-2.8.0\n"
          ]
        }
      ],
      "source": [
        "import pandas as pd\n",
        "import numpy as np\n",
        "import matplotlib.pyplot as plt\n",
        "import seaborn as sns\n",
        "from sklearn.linear_model import Lasso\n",
        "from sklearn.ensemble import RandomForestRegressor\n",
        "from catboost import CatBoostRegressor\n",
        "from sklearn.metrics import mean_squared_error as mse\n",
        "from sklearn.impute import SimpleImputer\n",
        "from sklearn.model_selection import train_test_split\n",
        "from sklearn.model_selection import train_test_split\n",
        "from sklearn.model_selection import GridSearchCV\n",
        "from sklearn.linear_model import Ridge\n",
        "from sklearn.preprocessing import PolynomialFeatures\n",
        "from sklearn.ensemble import GradientBoostingRegressor\n",
        "import geopandas as gpd\n",
        "from sklearn.preprocessing import PolynomialFeatures\n",
        "from sklearn.preprocessing import OneHotEncoder\n",
        "from sklearn.compose import make_column_transformer\n",
        "from sklearn.inspection import permutation_importance\n",
        "from sklearn.cluster import KMeans\n",
        "import datetime as dt\n",
        "!pip install haversine\n",
        "from haversine import haversine\n",
        "seed = 17\n",
        "from sklearn.model_selection import cross_val_score\n",
        "from sklearn.model_selection import KFold\n",
        "from tqdm.notebook import tqdm"
      ]
    },
    {
      "cell_type": "code",
      "source": [
        "! kaggle competitions download -c playground-series-s3e20"
      ],
      "metadata": {
        "colab": {
          "base_uri": "https://localhost:8080/"
        },
        "id": "B6AxJlvImBgk",
        "outputId": "4734fbdb-b76f-4a36-b8d9-b03347dcef7e"
      },
      "execution_count": 14,
      "outputs": [
        {
          "output_type": "stream",
          "name": "stdout",
          "text": [
            "Downloading playground-series-s3e20.zip to /content\n",
            " 80% 39.0M/48.9M [00:00<00:00, 114MB/s] \n",
            "100% 48.9M/48.9M [00:00<00:00, 108MB/s]\n"
          ]
        }
      ]
    },
    {
      "cell_type": "code",
      "source": [
        "! unzip -qq playground-series-s3e20.zip"
      ],
      "metadata": {
        "id": "-RZ_ytIImThI"
      },
      "execution_count": 15,
      "outputs": []
    },
    {
      "cell_type": "code",
      "source": [
        "train = pd.read_csv('train.csv')\n",
        "test = pd.read_csv('test.csv')"
      ],
      "metadata": {
        "id": "9BfVgwZjmlJP"
      },
      "execution_count": 16,
      "outputs": []
    },
    {
      "cell_type": "code",
      "source": [
        "def get_id(row):\n",
        "    return int(''.join(filter(str.isdigit, str(row['latitude']))) + ''.join(filter(str.isdigit, str(row['longitude']))))\n",
        "\n",
        "train['id'] = train[['latitude', 'longitude']].apply(lambda row: get_id(row), axis=1)\n",
        "test['id'] = test[['latitude', 'longitude']].apply(lambda row: get_id(row), axis=1)\n",
        "new_ids = {id_: new_id for new_id, id_ in enumerate(train['id'].unique())}\n",
        "train['id'] = train['id'].map(new_ids)\n",
        "test['id'] = test['id'].map(new_ids)\n",
        "\n",
        "def get_month(row):\n",
        "    date = dt.datetime.strptime(f'{row[\"year\"]}-{row[\"week_no\"]+1}-1', \"%Y-%W-%w\")\n",
        "    return date.month\n",
        "\n",
        "rwanda_center = (-1.9607, 29.9707)\n",
        "park_biega = (-1.8866, 28.4518)\n",
        "kirumba = (-0.5658, 29.1714)\n",
        "massif = (-3.42, 28.592)\n",
        "lake = (-2.0073, 31.6269)\n",
        "\n",
        "def cluster_features(df, cluster_centers):\n",
        "    for i, cc in enumerate(cluster_centers.values()):\n",
        "        df[f'cluster_{i}'] = df.apply(lambda x: haversine((x['latitude'], x['longitude']), cc, unit='ft'), axis=1)\n",
        "    return df\n",
        "\n",
        "y = train['emission']\n",
        "\n",
        "def preprocessing(df):\n",
        "\n",
        "    cols_save = ['id', 'latitude', 'longitude', 'year', 'week_no', 'Ozone_solar_azimuth_angle']\n",
        "    df = df[cols_save]\n",
        "\n",
        "    good_col = 'Ozone_solar_azimuth_angle'\n",
        "    df[good_col] = df.groupby(['id', 'year'])[good_col].ffill().bfill()\n",
        "    df[f'{good_col}_lag_1'] = df.groupby(['id', 'year'])[good_col].shift(1).fillna(0)\n",
        "\n",
        "    df['rot_15_x'] = (np.cos(np.radians(15)) * df['longitude']) + \\\n",
        "                     (np.sin(np.radians(15)) * df['latitude'])\n",
        "\n",
        "    df['rot_15_y'] = (np.cos(np.radians(15)) * df['latitude']) + \\\n",
        "                     (np.sin(np.radians(15)) * df['longitude'])\n",
        "\n",
        "    df['rot_30_x'] = (np.cos(np.radians(30)) * df['longitude']) + \\\n",
        "                     (np.sin(np.radians(30)) * df['latitude'])\n",
        "\n",
        "    df['rot_30_y'] = (np.cos(np.radians(30)) * df['latitude']) + \\\n",
        "                     (np.sin(np.radians(30)) * df['longitude'])\n",
        "\n",
        "    for col, coors in zip(\n",
        "        ['dist_rwanda', 'dist_park', 'dist_kirumba', 'dist_massif', 'dist_lake'],\n",
        "        [rwanda_center, park_biega, kirumba, massif, lake]\n",
        "    ):\n",
        "        df[col] = df.apply(lambda x: haversine((x['latitude'], x['longitude']), coors, unit='ft'), axis=1)\n",
        "\n",
        "    df['month'] = df[['year', 'week_no']].apply(lambda row: get_month(row), axis=1)\n",
        "    df['is_covid'] = (df['year'] == 2020) & (df['month'] > 2) | (df['year'] == 2021) & (df['month'] == 1)\n",
        "    df['is_lockdown'] = (df['year'] == 2020) & ((df['month'].isin([3,4])))\n",
        "\n",
        "    df.fillna(0, inplace=True)\n",
        "    return df\n",
        "\n",
        "train = preprocessing(train)\n",
        "test = preprocessing(test)\n",
        "\n",
        "df = pd.concat([train, test], axis=0, ignore_index=True)\n",
        "coordinates = df[['latitude', 'longitude']].values\n",
        "clustering = KMeans(n_clusters=12, max_iter=1000, random_state=seed).fit(coordinates)\n",
        "cluster_centers = {i: tuple(centroid) for i, centroid in enumerate(clustering.cluster_centers_)}\n",
        "df = cluster_features(df, cluster_centers)\n",
        "\n",
        "train = df.iloc[:-len(test),:]\n",
        "test = df.iloc[-len(test):,:]\n",
        "del df\n",
        "\n",
        "X = train.drop('id', axis=1)\n",
        "test = test.drop('id', axis=1)\n",
        "test=test.reset_index(drop=True)"
      ],
      "metadata": {
        "id": "9t9YmZVOmwLW"
      },
      "execution_count": 69,
      "outputs": []
    },
    {
      "cell_type": "code",
      "source": [
        "def cross_validation(model,n_fold, n_splits, X, y):\n",
        "  models = [ ]\n",
        "  scores = [ ]\n",
        "  for i in range(n_fold):\n",
        "     kf = KFold(n_splits=n_splits, shuffle=True, random_state=None)\n",
        "\n",
        "     for num, (train_index, test_index) in enumerate(kf.split(X)):\n",
        "       X_train, X_test = X.iloc[train_index], X.iloc[test_index]\n",
        "       y_train, y_test = y.iloc[train_index], y.iloc[test_index]\n",
        "\n",
        "       model.fit(X_train, y_train)\n",
        "\n",
        "       models.append(model)\n",
        "\n",
        "       y_pred = model.predict(X_test)\n",
        "       score = np.sqrt(mse(y_pred, y_test))\n",
        "       scores.append(score)\n",
        "\n",
        "       #print(f\"fold: {num} rmse: {score}\")\n",
        "  print(\"total rmse\", np.mean(scores, dtype=\"float16\"), 'std',  np.std(scores).round(4))\n",
        "\n",
        "  return models\n",
        "def cross_pred(model, X):\n",
        "  pred = pd.DataFrame()\n",
        "  for n, est in enumerate(model):\n",
        "    pred[n]= est.predict(X)\n",
        "  pred['mean'] = pred.mean(axis = 1)\n",
        "  return pred['mean']"
      ],
      "metadata": {
        "id": "lQW8NWjEnJfc"
      },
      "execution_count": 60,
      "outputs": []
    },
    {
      "cell_type": "code",
      "source": [
        "rfr = cross_validation(RandomForestRegressor(n_estimators = 10, max_depth = 400, verbose = 0), 3, 5, X, y)"
      ],
      "metadata": {
        "colab": {
          "base_uri": "https://localhost:8080/"
        },
        "id": "kCc_SMhupPrR",
        "outputId": "b3505340-3a50-49d0-889a-1af26b82bb64"
      },
      "execution_count": 35,
      "outputs": [
        {
          "output_type": "stream",
          "name": "stdout",
          "text": [
            "total rmse 13.05 std 1.5645\n"
          ]
        }
      ]
    },
    {
      "cell_type": "code",
      "source": [
        "cb = cross_validation(CatBoostRegressor(n_estimators = 1000, max_depth = 9, verbose = 0), 1, 5, X, y)"
      ],
      "metadata": {
        "colab": {
          "base_uri": "https://localhost:8080/"
        },
        "id": "qs8LHcgnqdWg",
        "outputId": "a4543759-bb58-4278-e68b-a51d82d2d2b7"
      },
      "execution_count": 36,
      "outputs": [
        {
          "output_type": "stream",
          "name": "stdout",
          "text": [
            "total rmse 11.19 std 2.1913\n"
          ]
        }
      ]
    },
    {
      "cell_type": "code",
      "source": [
        "model_train = pd.DataFrame()"
      ],
      "metadata": {
        "id": "VqqNxI-Br2BK"
      },
      "execution_count": 37,
      "outputs": []
    },
    {
      "cell_type": "code",
      "source": [
        "model_train['RFR'] = cross_pred(rfr, X)\n",
        "model_train['CB'] = cross_pred(cb, X)"
      ],
      "metadata": {
        "id": "U1GTyf3wsLVh"
      },
      "execution_count": 43,
      "outputs": []
    },
    {
      "cell_type": "code",
      "source": [
        "model_ens_for = cross_validation(RandomForestRegressor(n_estimators = 3, max_depth = 20), 3, 10, model_train, y)"
      ],
      "metadata": {
        "colab": {
          "base_uri": "https://localhost:8080/"
        },
        "id": "ZheVbtyTt6jz",
        "outputId": "444d0d8d-8fad-448f-cb80-89e3321990a3"
      },
      "execution_count": 52,
      "outputs": [
        {
          "output_type": "stream",
          "name": "stdout",
          "text": [
            "total rmse 7.387 std 0.998\n"
          ]
        }
      ]
    },
    {
      "cell_type": "code",
      "source": [
        "model_ens_ridge = cross_validation(Ridge(), 3, 10, model_train, y)"
      ],
      "metadata": {
        "colab": {
          "base_uri": "https://localhost:8080/"
        },
        "id": "NpQG3Czvu_yP",
        "outputId": "d069a931-2465-4282-c537-7fee85aa02d6"
      },
      "execution_count": 55,
      "outputs": [
        {
          "output_type": "stream",
          "name": "stdout",
          "text": [
            "total rmse 6.65 std 0.8119\n"
          ]
        }
      ]
    },
    {
      "cell_type": "code",
      "source": [
        "pred_test = pd.DataFrame()\n",
        "pred_test['RFR'] = cross_pred(cb, test)\n",
        "pred_test['CB'] = cross_pred(rfr, test)"
      ],
      "metadata": {
        "id": "g8RKJldlwkkb"
      },
      "execution_count": 64,
      "outputs": []
    },
    {
      "cell_type": "code",
      "source": [
        "pred_test['emission'] = cross_pred(model_ens_ridge, pred_test)"
      ],
      "metadata": {
        "id": "RzWfO3XEw_Xh"
      },
      "execution_count": 65,
      "outputs": []
    },
    {
      "cell_type": "code",
      "source": [
        "sample_submission = pd.read_csv('sample_submission.csv')\n",
        "base_submission = sample_submission.copy()\n",
        "base_submission['emission'] = pred_test['emission']\n",
        "base_submission.to_csv('stacking.csv', index = False)"
      ],
      "metadata": {
        "id": "0MgWmnZTxSRY"
      },
      "execution_count": 68,
      "outputs": []
    },
    {
      "cell_type": "code",
      "source": [
        "base_submission"
      ],
      "metadata": {
        "colab": {
          "base_uri": "https://localhost:8080/",
          "height": 419
        },
        "id": "jL4ST-7xxZYq",
        "outputId": "a00b7062-bd7c-4d82-bf0d-a5be97cb0711"
      },
      "execution_count": 69,
      "outputs": [
        {
          "output_type": "execute_result",
          "data": {
            "text/plain": [
              "           ID_LAT_LON_YEAR_WEEK   emission\n",
              "0      ID_-0.510_29.290_2022_00   3.217443\n",
              "1      ID_-0.510_29.290_2022_01   4.023907\n",
              "2      ID_-0.510_29.290_2022_02   4.158579\n",
              "3      ID_-0.510_29.290_2022_03   3.990929\n",
              "4      ID_-0.510_29.290_2022_04   4.195938\n",
              "...                         ...        ...\n",
              "24348  ID_-3.299_30.301_2022_44  27.567506\n",
              "24349  ID_-3.299_30.301_2022_45  29.099752\n",
              "24350  ID_-3.299_30.301_2022_46  29.715700\n",
              "24351  ID_-3.299_30.301_2022_47  29.854348\n",
              "24352  ID_-3.299_30.301_2022_48  29.329351\n",
              "\n",
              "[24353 rows x 2 columns]"
            ],
            "text/html": [
              "\n",
              "\n",
              "  <div id=\"df-bd3c5c83-89bc-464d-92d7-07a8c5bb130d\">\n",
              "    <div class=\"colab-df-container\">\n",
              "      <div>\n",
              "<style scoped>\n",
              "    .dataframe tbody tr th:only-of-type {\n",
              "        vertical-align: middle;\n",
              "    }\n",
              "\n",
              "    .dataframe tbody tr th {\n",
              "        vertical-align: top;\n",
              "    }\n",
              "\n",
              "    .dataframe thead th {\n",
              "        text-align: right;\n",
              "    }\n",
              "</style>\n",
              "<table border=\"1\" class=\"dataframe\">\n",
              "  <thead>\n",
              "    <tr style=\"text-align: right;\">\n",
              "      <th></th>\n",
              "      <th>ID_LAT_LON_YEAR_WEEK</th>\n",
              "      <th>emission</th>\n",
              "    </tr>\n",
              "  </thead>\n",
              "  <tbody>\n",
              "    <tr>\n",
              "      <th>0</th>\n",
              "      <td>ID_-0.510_29.290_2022_00</td>\n",
              "      <td>3.217443</td>\n",
              "    </tr>\n",
              "    <tr>\n",
              "      <th>1</th>\n",
              "      <td>ID_-0.510_29.290_2022_01</td>\n",
              "      <td>4.023907</td>\n",
              "    </tr>\n",
              "    <tr>\n",
              "      <th>2</th>\n",
              "      <td>ID_-0.510_29.290_2022_02</td>\n",
              "      <td>4.158579</td>\n",
              "    </tr>\n",
              "    <tr>\n",
              "      <th>3</th>\n",
              "      <td>ID_-0.510_29.290_2022_03</td>\n",
              "      <td>3.990929</td>\n",
              "    </tr>\n",
              "    <tr>\n",
              "      <th>4</th>\n",
              "      <td>ID_-0.510_29.290_2022_04</td>\n",
              "      <td>4.195938</td>\n",
              "    </tr>\n",
              "    <tr>\n",
              "      <th>...</th>\n",
              "      <td>...</td>\n",
              "      <td>...</td>\n",
              "    </tr>\n",
              "    <tr>\n",
              "      <th>24348</th>\n",
              "      <td>ID_-3.299_30.301_2022_44</td>\n",
              "      <td>27.567506</td>\n",
              "    </tr>\n",
              "    <tr>\n",
              "      <th>24349</th>\n",
              "      <td>ID_-3.299_30.301_2022_45</td>\n",
              "      <td>29.099752</td>\n",
              "    </tr>\n",
              "    <tr>\n",
              "      <th>24350</th>\n",
              "      <td>ID_-3.299_30.301_2022_46</td>\n",
              "      <td>29.715700</td>\n",
              "    </tr>\n",
              "    <tr>\n",
              "      <th>24351</th>\n",
              "      <td>ID_-3.299_30.301_2022_47</td>\n",
              "      <td>29.854348</td>\n",
              "    </tr>\n",
              "    <tr>\n",
              "      <th>24352</th>\n",
              "      <td>ID_-3.299_30.301_2022_48</td>\n",
              "      <td>29.329351</td>\n",
              "    </tr>\n",
              "  </tbody>\n",
              "</table>\n",
              "<p>24353 rows × 2 columns</p>\n",
              "</div>\n",
              "      <button class=\"colab-df-convert\" onclick=\"convertToInteractive('df-bd3c5c83-89bc-464d-92d7-07a8c5bb130d')\"\n",
              "              title=\"Convert this dataframe to an interactive table.\"\n",
              "              style=\"display:none;\">\n",
              "\n",
              "  <svg xmlns=\"http://www.w3.org/2000/svg\" height=\"24px\"viewBox=\"0 0 24 24\"\n",
              "       width=\"24px\">\n",
              "    <path d=\"M0 0h24v24H0V0z\" fill=\"none\"/>\n",
              "    <path d=\"M18.56 5.44l.94 2.06.94-2.06 2.06-.94-2.06-.94-.94-2.06-.94 2.06-2.06.94zm-11 1L8.5 8.5l.94-2.06 2.06-.94-2.06-.94L8.5 2.5l-.94 2.06-2.06.94zm10 10l.94 2.06.94-2.06 2.06-.94-2.06-.94-.94-2.06-.94 2.06-2.06.94z\"/><path d=\"M17.41 7.96l-1.37-1.37c-.4-.4-.92-.59-1.43-.59-.52 0-1.04.2-1.43.59L10.3 9.45l-7.72 7.72c-.78.78-.78 2.05 0 2.83L4 21.41c.39.39.9.59 1.41.59.51 0 1.02-.2 1.41-.59l7.78-7.78 2.81-2.81c.8-.78.8-2.07 0-2.86zM5.41 20L4 18.59l7.72-7.72 1.47 1.35L5.41 20z\"/>\n",
              "  </svg>\n",
              "      </button>\n",
              "\n",
              "\n",
              "\n",
              "    <div id=\"df-cefe42cc-acb1-43da-b6d2-c4b9eae069c5\">\n",
              "      <button class=\"colab-df-quickchart\" onclick=\"quickchart('df-cefe42cc-acb1-43da-b6d2-c4b9eae069c5')\"\n",
              "              title=\"Suggest charts.\"\n",
              "              style=\"display:none;\">\n",
              "\n",
              "<svg xmlns=\"http://www.w3.org/2000/svg\" height=\"24px\"viewBox=\"0 0 24 24\"\n",
              "     width=\"24px\">\n",
              "    <g>\n",
              "        <path d=\"M19 3H5c-1.1 0-2 .9-2 2v14c0 1.1.9 2 2 2h14c1.1 0 2-.9 2-2V5c0-1.1-.9-2-2-2zM9 17H7v-7h2v7zm4 0h-2V7h2v10zm4 0h-2v-4h2v4z\"/>\n",
              "    </g>\n",
              "</svg>\n",
              "      </button>\n",
              "    </div>\n",
              "\n",
              "<style>\n",
              "  .colab-df-quickchart {\n",
              "    background-color: #E8F0FE;\n",
              "    border: none;\n",
              "    border-radius: 50%;\n",
              "    cursor: pointer;\n",
              "    display: none;\n",
              "    fill: #1967D2;\n",
              "    height: 32px;\n",
              "    padding: 0 0 0 0;\n",
              "    width: 32px;\n",
              "  }\n",
              "\n",
              "  .colab-df-quickchart:hover {\n",
              "    background-color: #E2EBFA;\n",
              "    box-shadow: 0px 1px 2px rgba(60, 64, 67, 0.3), 0px 1px 3px 1px rgba(60, 64, 67, 0.15);\n",
              "    fill: #174EA6;\n",
              "  }\n",
              "\n",
              "  [theme=dark] .colab-df-quickchart {\n",
              "    background-color: #3B4455;\n",
              "    fill: #D2E3FC;\n",
              "  }\n",
              "\n",
              "  [theme=dark] .colab-df-quickchart:hover {\n",
              "    background-color: #434B5C;\n",
              "    box-shadow: 0px 1px 3px 1px rgba(0, 0, 0, 0.15);\n",
              "    filter: drop-shadow(0px 1px 2px rgba(0, 0, 0, 0.3));\n",
              "    fill: #FFFFFF;\n",
              "  }\n",
              "</style>\n",
              "\n",
              "    <script>\n",
              "      async function quickchart(key) {\n",
              "        const containerElement = document.querySelector('#' + key);\n",
              "        const charts = await google.colab.kernel.invokeFunction(\n",
              "            'suggestCharts', [key], {});\n",
              "      }\n",
              "    </script>\n",
              "\n",
              "      <script>\n",
              "\n",
              "function displayQuickchartButton(domScope) {\n",
              "  let quickchartButtonEl =\n",
              "    domScope.querySelector('#df-cefe42cc-acb1-43da-b6d2-c4b9eae069c5 button.colab-df-quickchart');\n",
              "  quickchartButtonEl.style.display =\n",
              "    google.colab.kernel.accessAllowed ? 'block' : 'none';\n",
              "}\n",
              "\n",
              "        displayQuickchartButton(document);\n",
              "      </script>\n",
              "      <style>\n",
              "    .colab-df-container {\n",
              "      display:flex;\n",
              "      flex-wrap:wrap;\n",
              "      gap: 12px;\n",
              "    }\n",
              "\n",
              "    .colab-df-convert {\n",
              "      background-color: #E8F0FE;\n",
              "      border: none;\n",
              "      border-radius: 50%;\n",
              "      cursor: pointer;\n",
              "      display: none;\n",
              "      fill: #1967D2;\n",
              "      height: 32px;\n",
              "      padding: 0 0 0 0;\n",
              "      width: 32px;\n",
              "    }\n",
              "\n",
              "    .colab-df-convert:hover {\n",
              "      background-color: #E2EBFA;\n",
              "      box-shadow: 0px 1px 2px rgba(60, 64, 67, 0.3), 0px 1px 3px 1px rgba(60, 64, 67, 0.15);\n",
              "      fill: #174EA6;\n",
              "    }\n",
              "\n",
              "    [theme=dark] .colab-df-convert {\n",
              "      background-color: #3B4455;\n",
              "      fill: #D2E3FC;\n",
              "    }\n",
              "\n",
              "    [theme=dark] .colab-df-convert:hover {\n",
              "      background-color: #434B5C;\n",
              "      box-shadow: 0px 1px 3px 1px rgba(0, 0, 0, 0.15);\n",
              "      filter: drop-shadow(0px 1px 2px rgba(0, 0, 0, 0.3));\n",
              "      fill: #FFFFFF;\n",
              "    }\n",
              "  </style>\n",
              "\n",
              "      <script>\n",
              "        const buttonEl =\n",
              "          document.querySelector('#df-bd3c5c83-89bc-464d-92d7-07a8c5bb130d button.colab-df-convert');\n",
              "        buttonEl.style.display =\n",
              "          google.colab.kernel.accessAllowed ? 'block' : 'none';\n",
              "\n",
              "        async function convertToInteractive(key) {\n",
              "          const element = document.querySelector('#df-bd3c5c83-89bc-464d-92d7-07a8c5bb130d');\n",
              "          const dataTable =\n",
              "            await google.colab.kernel.invokeFunction('convertToInteractive',\n",
              "                                                     [key], {});\n",
              "          if (!dataTable) return;\n",
              "\n",
              "          const docLinkHtml = 'Like what you see? Visit the ' +\n",
              "            '<a target=\"_blank\" href=https://colab.research.google.com/notebooks/data_table.ipynb>data table notebook</a>'\n",
              "            + ' to learn more about interactive tables.';\n",
              "          element.innerHTML = '';\n",
              "          dataTable['output_type'] = 'display_data';\n",
              "          await google.colab.output.renderOutput(dataTable, element);\n",
              "          const docLink = document.createElement('div');\n",
              "          docLink.innerHTML = docLinkHtml;\n",
              "          element.appendChild(docLink);\n",
              "        }\n",
              "      </script>\n",
              "    </div>\n",
              "  </div>\n"
            ]
          },
          "metadata": {},
          "execution_count": 69
        }
      ]
    }
  ]
}
